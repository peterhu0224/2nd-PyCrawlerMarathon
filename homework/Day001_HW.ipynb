{
 "cells": [
  {
   "cell_type": "code",
   "execution_count": 1,
   "metadata": {},
   "outputs": [],
   "source": [
    "#1.（簡答題）檔案、API、爬蟲三種取得資料方式有什麼不同？\n",
    "#檔案，為可直接提供下載或傳輸的一份資料集，並且可能包含常用的標準格式如CSV或JSON等。\n",
    "#API，為程式化的資料集接口，使用者可針對特定的資料進行請求。\n",
    "#爬蟲，當資料不以檔案或API的形式存在並且顯示在網頁上，則可使用爬蟲來擷取需要的資料。"
   ]
  },
  {
   "cell_type": "code",
   "execution_count": 2,
   "metadata": {},
   "outputs": [
    {
     "name": "stdout",
     "output_type": "stream",
     "text": [
      "check first line: The following are the graphical (non-control) characters defined by\n",
      "\n"
     ]
    }
   ],
   "source": [
    "#2. 下載指定檔案到 Data 資料夾，存成檔名Homework.txt\n",
    "import os\n",
    "from urllib.request import urlretrieve\n",
    "fileName = './Data/'\n",
    "txtName = 'Homework.txt'\n",
    "tarUrl = 'https://www.w3.org/TR/PNG/iso_8859-1.txt'\n",
    "try:\n",
    "    #下載檔案\n",
    "    os.makedirs(fileName, exist_ok=True )\n",
    "    urlretrieve(tarUrl, fileName+txtName)\n",
    "    #檢查下載\n",
    "    with open(fileName+txtName, 'r') as f:\n",
    "            print('check first line:', f.readline())\n",
    "except:\n",
    "    print('Error！')"
   ]
  },
  {
   "cell_type": "code",
   "execution_count": 3,
   "metadata": {},
   "outputs": [
    {
     "name": "stdout",
     "output_type": "stream",
     "text": [
      "DONE！\n"
     ]
    }
   ],
   "source": [
    "#3. 將「Hello World」字串覆寫到 Homework.txt 檔案並檢查 Homework.txt 檔案字數是否符合 Hello World 字數\n",
    "try:\n",
    "    #如果檔案存在則將其複寫，檢查字串長度是否符合，若符合return 'DONE'\n",
    "    if txtName in os.listdir('./Data'):\n",
    "        with open(fileName+txtName, 'w') as f:\n",
    "            f.write('Hello World')\n",
    "        with open(fileName+txtName, 'r') as f:\n",
    "            if len('Hello World') ==  len(f.read()):\n",
    "                print('DONE！')        \n",
    "    else:\n",
    "        print('{} is not exist'.format(txtName))\n",
    "except:\n",
    "    print('Error！')"
   ]
  }
 ],
 "metadata": {
  "kernelspec": {
   "display_name": "Python 3",
   "language": "python",
   "name": "python3"
  },
  "language_info": {
   "codemirror_mode": {
    "name": "ipython",
    "version": 3
   },
   "file_extension": ".py",
   "mimetype": "text/x-python",
   "name": "python",
   "nbconvert_exporter": "python",
   "pygments_lexer": "ipython3",
   "version": "3.7.3"
  }
 },
 "nbformat": 4,
 "nbformat_minor": 2
}
