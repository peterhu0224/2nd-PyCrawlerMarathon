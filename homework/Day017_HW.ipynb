{
 "cells": [
  {
   "cell_type": "code",
   "execution_count": 1,
   "metadata": {},
   "outputs": [
    {
     "data": {
      "text/plain": [
       "'\\n靜態網頁請求後回傳一整份完整的網頁。\\n動態網頁請求後回傳一個框架，再透過框架內的資料進行另外的請求，達到動態效果。\\n用靜態網頁的爬蟲方法爬動態網頁可能會遺漏許多資料，因為無法針對特定資料再進行請求。\\n'"
      ]
     },
     "execution_count": 1,
     "metadata": {},
     "output_type": "execute_result"
    }
   ],
   "source": [
    "#1. 動態網頁跟靜態網頁的差別是什麼？原本靜態網頁的做法會產生什麼問題或是缺點？\n",
    "\"\"\"\n",
    "靜態網頁請求後回傳一整份完整的網頁。\n",
    "動態網頁請求後回傳一個框架，再透過框架內的資料進行另外的請求，達到動態效果。\n",
    "用靜態網頁的爬蟲方法爬動態網頁可能會遺漏許多資料，因為無法針對特定資料再進行請求。\n",
    "\"\"\""
   ]
  },
  {
   "cell_type": "code",
   "execution_count": 2,
   "metadata": {},
   "outputs": [
    {
     "data": {
      "text/plain": [
       "'\\n觀察到在網頁向下滾動的時候會執行\\nRequest URL: https://www.ettoday.net/show_roll.php\\nRequest Method: POST\\n因此在靜態爬蟲的狀況下，沒有滿足滾動頁面條件，就不會請求額外的資料。\\n'"
      ]
     },
     "execution_count": 2,
     "metadata": {},
     "output_type": "execute_result"
    }
   ],
   "source": [
    "#2.還記得我們在 ETTODAY 靜態爬蟲實作練習中，有請大家完成一個題目「取出今天所有的發文」，\n",
    "#但仔細看其實並沒有真的把當天所有的新聞都抓回來， 試著回答看看原因是什麼？及該如何檢查？\n",
    "\"\"\"\n",
    "觀察到在網頁向下滾動的時候會執行\n",
    "Request URL: https://www.ettoday.net/show_roll.php\n",
    "Request Method: POST\n",
    "因此在靜態爬蟲的狀況下，沒有滿足滾動頁面條件，就不會請求額外的資料。\n",
    "\"\"\""
   ]
  },
  {
   "cell_type": "code",
   "execution_count": null,
   "metadata": {},
   "outputs": [],
   "source": []
  }
 ],
 "metadata": {
  "kernelspec": {
   "display_name": "Python 3",
   "language": "python",
   "name": "python3"
  },
  "language_info": {
   "codemirror_mode": {
    "name": "ipython",
    "version": 3
   },
   "file_extension": ".py",
   "mimetype": "text/x-python",
   "name": "python",
   "nbconvert_exporter": "python",
   "pygments_lexer": "ipython3",
   "version": "3.7.3"
  }
 },
 "nbformat": 4,
 "nbformat_minor": 2
}
