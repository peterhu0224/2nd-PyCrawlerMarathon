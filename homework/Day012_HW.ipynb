{
 "cells": [
  {
   "cell_type": "code",
   "execution_count": 1,
   "metadata": {},
   "outputs": [],
   "source": [
    "import requests\n",
    "from bs4 import BeautifulSoup\n",
    "import pandas as pd\n",
    "\n",
    "url = 'https://www.ettoday.net/news/news-list.htm'\n",
    "r = requests.get(url)\n",
    "soup = BeautifulSoup(r.text, \"html5lib\")"
   ]
  },
  {
   "cell_type": "code",
   "execution_count": 2,
   "metadata": {
    "scrolled": true
   },
   "outputs": [
    {
     "data": {
      "text/html": [
       "<div>\n",
       "<style scoped>\n",
       "    .dataframe tbody tr th:only-of-type {\n",
       "        vertical-align: middle;\n",
       "    }\n",
       "\n",
       "    .dataframe tbody tr th {\n",
       "        vertical-align: top;\n",
       "    }\n",
       "\n",
       "    .dataframe thead th {\n",
       "        text-align: right;\n",
       "    }\n",
       "</style>\n",
       "<table border=\"1\" class=\"dataframe\">\n",
       "  <thead>\n",
       "    <tr style=\"text-align: right;\">\n",
       "      <th></th>\n",
       "      <th>date</th>\n",
       "      <th>em</th>\n",
       "      <th>text</th>\n",
       "    </tr>\n",
       "  </thead>\n",
       "  <tbody>\n",
       "    <tr>\n",
       "      <th>0</th>\n",
       "      <td>2020/03/12 14:30</td>\n",
       "      <td>旅遊</td>\n",
       "      <td>【李佑群老師】台南府城中的小京都　隱藏百年歷史的京町家</td>\n",
       "    </tr>\n",
       "    <tr>\n",
       "      <th>0</th>\n",
       "      <td>2020/03/12 14:29</td>\n",
       "      <td>地方</td>\n",
       "      <td>防疫DIY！　勞動部教民眾做口罩殺菌機、口罩套</td>\n",
       "    </tr>\n",
       "    <tr>\n",
       "      <th>0</th>\n",
       "      <td>2020/03/12 14:28</td>\n",
       "      <td>地方</td>\n",
       "      <td>新竹馬偕武漢肺炎病毒合約實驗室啟用　竹竹苗第一間</td>\n",
       "    </tr>\n",
       "    <tr>\n",
       "      <th>0</th>\n",
       "      <td>2020/03/12 14:26</td>\n",
       "      <td>政治</td>\n",
       "      <td>罷韓受疫情影響？　李進勇：居家隔離檢疫的選民不得投票</td>\n",
       "    </tr>\n",
       "    <tr>\n",
       "      <th>0</th>\n",
       "      <td>2020/03/12 14:25</td>\n",
       "      <td>國際</td>\n",
       "      <td>不斷更新／首次！美參議員「幕僚於華府確診」　國務院提高全國旅遊警示</td>\n",
       "    </tr>\n",
       "  </tbody>\n",
       "</table>\n",
       "</div>"
      ],
      "text/plain": [
       "               date  em                               text\n",
       "0  2020/03/12 14:30  旅遊        【李佑群老師】台南府城中的小京都　隱藏百年歷史的京町家\n",
       "0  2020/03/12 14:29  地方            防疫DIY！　勞動部教民眾做口罩殺菌機、口罩套\n",
       "0  2020/03/12 14:28  地方           新竹馬偕武漢肺炎病毒合約實驗室啟用　竹竹苗第一間\n",
       "0  2020/03/12 14:26  政治         罷韓受疫情影響？　李進勇：居家隔離檢疫的選民不得投票\n",
       "0  2020/03/12 14:25  國際  不斷更新／首次！美參議員「幕僚於華府確診」　國務院提高全國旅遊警示"
      ]
     },
     "execution_count": 2,
     "metadata": {},
     "output_type": "execute_result"
    }
   ],
   "source": [
    "#1. 取出今天所有的發文\n",
    "#2. 以DaraFrame方式儲存\n",
    "df = pd.DataFrame()\n",
    "for d in soup.find(class_=\"part_list_2\").find_all('h3'):\n",
    "    date = d.find(class_='date').text\n",
    "    em = d.find('em').text\n",
    "    title = d.find_all('a')[-1].text\n",
    "    df = pd.concat([df, (pd.Series([date, em, title]).reset_index().T).iloc[1:]])\n",
    "df.columns = ['date', 'em', 'text']\n",
    "df.head()"
   ]
  },
  {
   "cell_type": "code",
   "execution_count": 3,
   "metadata": {},
   "outputs": [
    {
     "data": {
      "text/plain": [
       "社會      16\n",
       "生活      12\n",
       "影劇      11\n",
       "政治      11\n",
       "體育      10\n",
       "國際       5\n",
       "財經       4\n",
       "地方       4\n",
       "旅遊       4\n",
       "時尚       3\n",
       "大陸       3\n",
       "軍武       2\n",
       "論壇       2\n",
       "房產雲      2\n",
       "3C家電     2\n",
       "ET車雲     2\n",
       "寵物動物     2\n",
       "健康       2\n",
       "法律       1\n",
       "遊戲       1\n",
       "網搜       1\n",
       "Name: em, dtype: int64"
      ]
     },
     "execution_count": 3,
     "metadata": {},
     "output_type": "execute_result"
    }
   ],
   "source": [
    "#3. 哪一個類別的文章最多\n",
    "df['em'].value_counts()"
   ]
  }
 ],
 "metadata": {
  "kernelspec": {
   "display_name": "Python 3",
   "language": "python",
   "name": "python3"
  },
  "language_info": {
   "codemirror_mode": {
    "name": "ipython",
    "version": 3
   },
   "file_extension": ".py",
   "mimetype": "text/x-python",
   "name": "python",
   "nbconvert_exporter": "python",
   "pygments_lexer": "ipython3",
   "version": "3.7.3"
  }
 },
 "nbformat": 4,
 "nbformat_minor": 2
}
