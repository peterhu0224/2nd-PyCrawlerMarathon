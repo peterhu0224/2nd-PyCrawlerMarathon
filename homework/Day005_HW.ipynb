{
 "cells": [
  {
   "cell_type": "code",
   "execution_count": 2,
   "metadata": {
    "scrolled": true
   },
   "outputs": [
    {
     "name": "stdout",
     "output_type": "stream",
     "text": [
      "回傳資料數： 30\n",
      "資料欄位： dict_keys(['id', 'title', 'excerpt', 'anonymousSchool', 'anonymousDepartment', 'pinned', 'forumId', 'replyId', 'createdAt', 'updatedAt', 'commentCount', 'likeCount', 'withNickname', 'tags', 'topics', 'meta', 'forumName', 'forumAlias', 'gender', 'school', 'replyTitle', 'mediaMeta', 'reactions', 'hidden', 'customStyle', 'isSuspiciousAccount', 'layout', 'withImages', 'withVideos', 'media', 'reportReasonText', 'postAvatar'])\n"
     ]
    }
   ],
   "source": [
    "import requests\n",
    "import json\n",
    "r = requests.get('https://www.dcard.tw/_api/forums/pet/posts?popular=true')\n",
    "res = r.text\n",
    "data = json.loads(res)\n",
    "print('回傳資料數：', len(data))\n",
    "print('資料欄位：', data[0].keys())"
   ]
  },
  {
   "cell_type": "code",
   "execution_count": 3,
   "metadata": {},
   "outputs": [
    {
     "data": {
      "text/plain": [
       "{233218968: ['（更新）貓咪一直大便在男友床上😫', '2020-03-08T10:07:16.450Z', 45, 719],\n",
       " 233219968: ['優格狼不是叫假的！', '2020-03-08T12:57:07.890Z', 7, 368],\n",
       " 233223495: ['再見了！貓叔', '2020-03-09T02:35:03.855Z', 1, 112],\n",
       " 233220074: ['我家的野小鸚鵡，圖多', '2020-03-08T13:13:12.232Z', 14, 72],\n",
       " 233217491: ['狗狗頭五回來過🥺', '2020-03-08T05:14:39.540Z', 7, 67],\n",
       " 233222125: ['在美國的美國短毛貓-睡姿篇', '2020-03-08T17:25:16.914Z', 3, 65],\n",
       " 233225881: ['結紮後哭哭', '2020-03-09T08:57:11.370Z', 3, 30],\n",
       " 233220727: ['愛狗成痴❤️', '2020-03-08T14:34:06.038Z', 24, 29],\n",
       " 233217947: ['咱家的狗喜歡進紙箱～', '2020-03-08T06:50:17.597Z', 4, 27],\n",
       " 233219604: ['犬種介紹特輯7 小短腿 潘布魯克柯基犬~', '2020-03-08T12:01:41.456Z', 14, 22],\n",
       " 233219487: ['你怎麼在面壁', '2020-03-08T11:42:31.909Z', 3, 22],\n",
       " 233224269: ['最會騙人的貓', '2020-03-09T04:46:36.530Z', 11, 19],\n",
       " 233226452: ['牠陪伴你一時，你陪伴牠ㄧ世', '2020-03-09T10:29:35.965Z', 2, 16],\n",
       " 233223728: ['我家又撿到鳥了', '2020-03-09T03:14:27.534Z', 1, 16],\n",
       " 233226528: ['家門口的浪貓', '2020-03-09T10:41:12.198Z', 7, 13],\n",
       " 233218914: ['睡到我以為沒呼吸了', '2020-03-08T09:55:53.624Z', 4, 12],\n",
       " 233225219: ['要多厭世', '2020-03-09T07:11:55.687Z', 1, 11],\n",
       " 233225045: ['《狸貓豆皮》搭校車的工讀生上學嚕🐕', '2020-03-09T06:43:50.658Z', 0, 11],\n",
       " 233222650: ['家有五隻貓', '2020-03-08T20:08:16.456Z', 0, 11],\n",
       " 233221664: ['我能做的不多～但我盡力', '2020-03-08T16:21:16.712Z', 4, 11],\n",
       " 233225588: ['我養了一頭鹿（？', '2020-03-09T08:09:40.976Z', 0, 10],\n",
       " 233220648: ['五年的體重變化', '2020-03-08T14:27:07.542Z', 0, 10],\n",
       " 233221987: ['撒嬌貓', '2020-03-08T17:03:22.202Z', 0, 9],\n",
       " 233217749: ['小時候不知道咪咪是貓的名字結果我家的狗就取名為咪咪了', '2020-03-08T06:08:57.902Z', 3, 9],\n",
       " 233220912: ['關於飼養方式', '2020-03-08T14:57:04.595Z', 7, 8],\n",
       " 233219513: ['#協尋 三重 巴西龜', '2020-03-08T11:45:44.107Z', 0, 8],\n",
       " 233225238: ['我以為我養的是豬🐷', '2020-03-09T07:15:38.224Z', 0, 7],\n",
       " 233219855: ['貓大十八變', '2020-03-08T12:40:22.153Z', 0, 7],\n",
       " 233218548: ['請問帶兔子看醫生相關問題', '2020-03-08T08:41:55.506Z', 5, 7],\n",
       " 233224384: ['被懷疑是因為我養貓所以害其他人過敏', '2020-03-09T05:05:02.814Z', 8, 6]}"
      ]
     },
     "execution_count": 3,
     "metadata": {},
     "output_type": "execute_result"
    }
   ],
   "source": [
    "#2. 取出每一筆資料的「標題」、「貼文時間」、「留言人數」、「按讚人數」\n",
    "infoDictPT = {}\n",
    "loopLists = [ 'title', 'createdAt', 'commentCount', 'likeCount']\n",
    "for d in data:\n",
    "    infoDictPT[d['id']] = [d[i] for i in loopLists]\n",
    "infoDictPT"
   ]
  },
  {
   "cell_type": "code",
   "execution_count": 4,
   "metadata": {},
   "outputs": [
    {
     "name": "stdout",
     "output_type": "stream",
     "text": [
      "熱門平均留言數：5.93, 熱門平均按讚數：57.80\n"
     ]
    }
   ],
   "source": [
    "#3-1. 計算熱門文章的「平均留言人數」與「平均按讚人數」\n",
    "commentCount = 0\n",
    "likeCount = 0\n",
    "itemCount = len(infoDictPT)\n",
    "for i in infoDictPT.items():\n",
    "    commentCount += i[1][2]\n",
    "    likeCount += i[1][3]\n",
    "print('熱門平均留言數：{:.2f}, 熱門平均按讚數：{:.2f}'\\\n",
    "                              .format(commentCount/itemCount, likeCount/itemCount))"
   ]
  },
  {
   "cell_type": "code",
   "execution_count": 5,
   "metadata": {},
   "outputs": [
    {
     "name": "stdout",
     "output_type": "stream",
     "text": [
      "非熱門平均留言數：1.80, 非熱門平均按讚數：4.37\n"
     ]
    }
   ],
   "source": [
    "#3-2. 計算非熱門文章的「平均留言人數」與「平均按讚人數」\n",
    "r = requests.get('https://www.dcard.tw/_api/forums/pet/posts?popular=false')\n",
    "res = r.text\n",
    "data = json.loads(res)\n",
    "infoDictPF = {}\n",
    "loopLists = [ 'title', 'createdAt', 'commentCount', 'likeCount']\n",
    "for d in data:\n",
    "    infoDictPF[d['id']] = [d[i] for i in loopLists]\n",
    "commentCount = 0\n",
    "likeCount = 0\n",
    "itemCount = len(infoDictPF)\n",
    "for i in infoDictPF.items():\n",
    "    commentCount += i[1][2]\n",
    "    likeCount += i[1][3]\n",
    "print('非熱門平均留言數：{:.2f}, 非熱門平均按讚數：{:.2f}'\\\n",
    "                              .format(commentCount/itemCount, likeCount/itemCount))"
   ]
  }
 ],
 "metadata": {
  "kernelspec": {
   "display_name": "Python 3",
   "language": "python",
   "name": "python3"
  }
 },
 "nbformat": 4,
 "nbformat_minor": 2
}
