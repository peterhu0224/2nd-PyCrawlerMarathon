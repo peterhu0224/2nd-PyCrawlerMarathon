{
 "cells": [
  {
   "cell_type": "code",
   "execution_count": 1,
   "metadata": {
    "scrolled": true
   },
   "outputs": [],
   "source": [
    "import requests\n",
    "import json\n",
    "import time\n",
    "headers = {'user-agent': 'my-app/0.0.1'}\n",
    "r = requests.get('https://www.zhihu.com/api/v4/questions/55493026/answers',headers=headers)\n",
    "response = r.text\n",
    "data = json.loads(response)"
   ]
  },
  {
   "cell_type": "code",
   "execution_count": 2,
   "metadata": {},
   "outputs": [
    {
     "name": "stdout",
     "output_type": "stream",
     "text": [
      "欄位 dict_keys(['id', 'type', 'answer_type', 'question', 'author', 'url', 'is_collapsed', 'created_time', 'updated_time', 'extras', 'is_copyable', 'relationship', 'ad_answer'])\n",
      "\n",
      "資料總數 5\n"
     ]
    }
   ],
   "source": [
    "print('欄位', data['data'][0].keys())\n",
    "print('\\n資料總數',len(data['data']))"
   ]
  },
  {
   "cell_type": "code",
   "execution_count": 3,
   "metadata": {},
   "outputs": [
    {
     "name": "stdout",
     "output_type": "stream",
     "text": [
      "2017-02-06 22:10:29\n"
     ]
    }
   ],
   "source": [
    "#1. 取出知乎問題發問時間\n",
    "qctLists = []\n",
    "for d in data['data']:\n",
    "    qctLists.append(d['question']['created'])\n",
    "print(time.strftime('%Y-%m-%d %H:%M:%S', time.localtime(qctLists[0])))"
   ]
  },
  {
   "cell_type": "code",
   "execution_count": 4,
   "metadata": {},
   "outputs": [
    {
     "name": "stdout",
     "output_type": "stream",
     "text": [
      "2019-04-01 10:17:08\n",
      "2019-02-27 11:41:25\n"
     ]
    }
   ],
   "source": [
    "#2. 取出第一筆與最後一筆回答的時間\n",
    "anstList = []\n",
    "anstList.append(data['data'][0]['created_time'])\n",
    "anstList.append(data['data'][-1]['created_time'])\n",
    "for i in anstList:\n",
    "    print(time.strftime('%Y-%m-%d %H:%M:%S', time.localtime(i)))"
   ]
  }
 ],
 "metadata": {
  "kernelspec": {
   "display_name": "Python 3",
   "language": "python",
   "name": "python3"
  },
  "language_info": {
   "codemirror_mode": {
    "name": "ipython",
    "version": 3
   },
   "file_extension": ".py",
   "mimetype": "text/x-python",
   "name": "python",
   "nbconvert_exporter": "python",
   "pygments_lexer": "ipython3",
   "version": "3.7.3"
  }
 },
 "nbformat": 4,
 "nbformat_minor": 2
}
